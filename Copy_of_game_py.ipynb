{
  "nbformat": 4,
  "nbformat_minor": 0,
  "metadata": {
    "colab": {
      "provenance": [],
      "authorship_tag": "ABX9TyORNLL4XT6FMxt2oyrCB2wI",
      "include_colab_link": true
    },
    "kernelspec": {
      "name": "python3",
      "display_name": "Python 3"
    },
    "language_info": {
      "name": "python"
    }
  },
  "cells": [
    {
      "cell_type": "markdown",
      "metadata": {
        "id": "view-in-github",
        "colab_type": "text"
      },
      "source": [
        "<a href=\"https://colab.research.google.com/github/Ashwinihebbali/dice-rolling-game/blob/main/Copy_of_game_py.ipynb\" target=\"_parent\"><img src=\"https://colab.research.google.com/assets/colab-badge.svg\" alt=\"Open In Colab\"/></a>"
      ]
    },
    {
      "cell_type": "code",
      "source": [
        "import random\n",
        "while True:\n",
        "    choice=input('roll the dice? (y/n):').lower()\n",
        "    if choice == 'y':\n",
        "        die1=random.randint(1,6)\n",
        "        die2=random.randint(1,6)\n",
        "        print(f'({die1},{die2})')\n",
        "    elif choice =='n':\n",
        "        print('thanks for playing!')\n",
        "        break\n",
        "    else:\n",
        "        print('invalid choice!')"
      ],
      "metadata": {
        "colab": {
          "base_uri": "https://localhost:8080/"
        },
        "id": "msfBYsZG-NU0",
        "outputId": "b34d3da9-131b-41dd-95c3-a911d4f01c55"
      },
      "execution_count": null,
      "outputs": [
        {
          "output_type": "stream",
          "name": "stdout",
          "text": [
            "roll the dice? (y/n):y\n",
            "(2,6)\n",
            "roll the dice? (y/n):y\n",
            "(6,5)\n",
            "roll the dice? (y/n):n\n",
            "thanks for playing!\n"
          ]
        }
      ]
    }
  ]
}